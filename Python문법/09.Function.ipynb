{
 "cells": [
  {
   "cell_type": "code",
   "execution_count": 1,
   "id": "4773a8b1",
   "metadata": {},
   "outputs": [],
   "source": [
    "def ReturnName():\n",
    "    print('My name is IU')"
   ]
  },
  {
   "cell_type": "code",
   "execution_count": 2,
   "id": "9e0d5c7c",
   "metadata": {},
   "outputs": [
    {
     "name": "stdout",
     "output_type": "stream",
     "text": [
      "My name is IU\n"
     ]
    }
   ],
   "source": [
    "ReturnName()"
   ]
  },
  {
   "cell_type": "code",
   "execution_count": 19,
   "id": "04d14e2a",
   "metadata": {},
   "outputs": [],
   "source": [
    "def ReturnName2(name):\n",
    "    print('My name is {}'.formmat(name))"
   ]
  },
  {
   "cell_type": "code",
   "execution_count": 20,
   "id": "59cdd824",
   "metadata": {},
   "outputs": [
    {
     "ename": "AttributeError",
     "evalue": "'str' object has no attribute 'formmat'",
     "output_type": "error",
     "traceback": [
      "\u001b[1;31m---------------------------------------------------------------------------\u001b[0m",
      "\u001b[1;31mAttributeError\u001b[0m                            Traceback (most recent call last)",
      "Input \u001b[1;32mIn [20]\u001b[0m, in \u001b[0;36m<cell line: 1>\u001b[1;34m()\u001b[0m\n\u001b[1;32m----> 1\u001b[0m \u001b[43mReturnName2\u001b[49m\u001b[43m(\u001b[49m\u001b[38;5;124;43m'\u001b[39;49m\u001b[38;5;124;43mwho\u001b[39;49m\u001b[38;5;124;43m'\u001b[39;49m\u001b[43m)\u001b[49m\n",
      "Input \u001b[1;32mIn [19]\u001b[0m, in \u001b[0;36mReturnName2\u001b[1;34m(name)\u001b[0m\n\u001b[0;32m      1\u001b[0m \u001b[38;5;28;01mdef\u001b[39;00m \u001b[38;5;21mReturnName2\u001b[39m(name):\n\u001b[1;32m----> 2\u001b[0m     \u001b[38;5;28mprint\u001b[39m(\u001b[38;5;124;43m'\u001b[39;49m\u001b[38;5;124;43mMy name is \u001b[39;49m\u001b[38;5;132;43;01m{}\u001b[39;49;00m\u001b[38;5;124;43m'\u001b[39;49m\u001b[38;5;241;43m.\u001b[39;49m\u001b[43mformmat\u001b[49m(name))\n",
      "\u001b[1;31mAttributeError\u001b[0m: 'str' object has no attribute 'formmat'"
     ]
    }
   ],
   "source": [
    "ReturnName2('who')"
   ]
  },
  {
   "cell_type": "code",
   "execution_count": 9,
   "id": "92474c20",
   "metadata": {},
   "outputs": [],
   "source": [
    "def calc(a,b):\n",
    "    c = a * b\n",
    "    \n",
    "    return c"
   ]
  },
  {
   "cell_type": "code",
   "execution_count": 10,
   "id": "3e5e4cd1",
   "metadata": {},
   "outputs": [
    {
     "data": {
      "text/plain": [
       "200"
      ]
     },
     "execution_count": 10,
     "metadata": {},
     "output_type": "execute_result"
    }
   ],
   "source": [
    "calc(10, 20)"
   ]
  },
  {
   "cell_type": "markdown",
   "id": "7e11f8a6",
   "metadata": {},
   "source": [
    "녹화 오후 3시 45분 7시간째"
   ]
  },
  {
   "cell_type": "code",
   "execution_count": 17,
   "id": "f2692355",
   "metadata": {},
   "outputs": [
    {
     "data": {
      "text/plain": [
       "<function __main__.calc(a, b)>"
      ]
     },
     "execution_count": 17,
     "metadata": {},
     "output_type": "execute_result"
    }
   ],
   "source": [
    "calc"
   ]
  },
  {
   "cell_type": "code",
   "execution_count": 21,
   "id": "57476f74",
   "metadata": {},
   "outputs": [
    {
     "data": {
      "text/plain": [
       "2647649207920"
      ]
     },
     "execution_count": 21,
     "metadata": {},
     "output_type": "execute_result"
    }
   ],
   "source": [
    "id(calc)"
   ]
  },
  {
   "cell_type": "code",
   "execution_count": null,
   "id": "75be83e6",
   "metadata": {},
   "outputs": [],
   "source": []
  }
 ],
 "metadata": {
  "kernelspec": {
   "display_name": "Python 3 (ipykernel)",
   "language": "python",
   "name": "python3"
  },
  "language_info": {
   "codemirror_mode": {
    "name": "ipython",
    "version": 3
   },
   "file_extension": ".py",
   "mimetype": "text/x-python",
   "name": "python",
   "nbconvert_exporter": "python",
   "pygments_lexer": "ipython3",
   "version": "3.9.12"
  }
 },
 "nbformat": 4,
 "nbformat_minor": 5
}
