{
 "cells": [
  {
   "cell_type": "markdown",
   "id": "c30414eb",
   "metadata": {},
   "source": [
    "패키지 설치"
   ]
  },
  {
   "cell_type": "code",
   "execution_count": 1,
   "id": "abca6f45",
   "metadata": {
    "scrolled": true
   },
   "outputs": [
    {
     "name": "stdout",
     "output_type": "stream",
     "text": [
      "Collecting azure-storage-blob\n",
      "  Downloading azure_storage_blob-12.14.1-py3-none-any.whl (383 kB)\n",
      "Collecting azure-core<2.0.0,>=1.24.2\n",
      "  Downloading azure_core-1.26.1-py3-none-any.whl (172 kB)\n",
      "Requirement already satisfied: cryptography>=2.1.4 in c:\\users\\user\\anaconda3\\lib\\site-packages (from azure-storage-blob) (3.4.8)\n",
      "Collecting msrest>=0.7.1\n",
      "  Downloading msrest-0.7.1-py3-none-any.whl (85 kB)\n",
      "Requirement already satisfied: requests>=2.18.4 in c:\\users\\user\\anaconda3\\lib\\site-packages (from azure-core<2.0.0,>=1.24.2->azure-storage-blob) (2.27.1)\n",
      "Requirement already satisfied: six>=1.11.0 in c:\\users\\user\\anaconda3\\lib\\site-packages (from azure-core<2.0.0,>=1.24.2->azure-storage-blob) (1.16.0)\n",
      "Requirement already satisfied: typing-extensions>=4.0.1 in c:\\users\\user\\anaconda3\\lib\\site-packages (from azure-core<2.0.0,>=1.24.2->azure-storage-blob) (4.1.1)\n",
      "Requirement already satisfied: cffi>=1.12 in c:\\users\\user\\anaconda3\\lib\\site-packages (from cryptography>=2.1.4->azure-storage-blob) (1.15.0)\n",
      "Requirement already satisfied: pycparser in c:\\users\\user\\anaconda3\\lib\\site-packages (from cffi>=1.12->cryptography>=2.1.4->azure-storage-blob) (2.21)\n",
      "Requirement already satisfied: certifi>=2017.4.17 in c:\\users\\user\\anaconda3\\lib\\site-packages (from msrest>=0.7.1->azure-storage-blob) (2021.10.8)\n",
      "Collecting isodate>=0.6.0\n",
      "  Downloading isodate-0.6.1-py2.py3-none-any.whl (41 kB)\n",
      "Requirement already satisfied: requests-oauthlib>=0.5.0 in c:\\users\\user\\anaconda3\\lib\\site-packages (from msrest>=0.7.1->azure-storage-blob) (1.3.1)\n",
      "Requirement already satisfied: charset-normalizer~=2.0.0 in c:\\users\\user\\anaconda3\\lib\\site-packages (from requests>=2.18.4->azure-core<2.0.0,>=1.24.2->azure-storage-blob) (2.0.4)\n",
      "Requirement already satisfied: urllib3<1.27,>=1.21.1 in c:\\users\\user\\anaconda3\\lib\\site-packages (from requests>=2.18.4->azure-core<2.0.0,>=1.24.2->azure-storage-blob) (1.26.9)\n",
      "Requirement already satisfied: idna<4,>=2.5 in c:\\users\\user\\anaconda3\\lib\\site-packages (from requests>=2.18.4->azure-core<2.0.0,>=1.24.2->azure-storage-blob) (2.10)\n",
      "Requirement already satisfied: oauthlib>=3.0.0 in c:\\users\\user\\anaconda3\\lib\\site-packages (from requests-oauthlib>=0.5.0->msrest>=0.7.1->azure-storage-blob) (3.2.2)\n",
      "Installing collected packages: isodate, azure-core, msrest, azure-storage-blob\n",
      "Successfully installed azure-core-1.26.1 azure-storage-blob-12.14.1 isodate-0.6.1 msrest-0.7.1\n"
     ]
    }
   ],
   "source": [
    "!pip install azure-storage-blob"
   ]
  },
  {
   "cell_type": "code",
   "execution_count": 2,
   "id": "5e9991ea",
   "metadata": {},
   "outputs": [],
   "source": [
    "import os, uuid      # os - 파일을 만들기 위한 패키지\n",
    "from azure.storage.blob import BlobServiceClient, BlobClient, ContainerClient                    "
   ]
  },
  {
   "cell_type": "markdown",
   "id": "b7c49ffa",
   "metadata": {},
   "source": [
    "Blob 서비스에 연결 한다."
   ]
  },
  {
   "cell_type": "code",
   "execution_count": 3,
   "id": "31814236",
   "metadata": {},
   "outputs": [],
   "source": [
    "connect_string = 'DefaultEndpointsProtocol=https;AccountName=labuser39storage;AccountKey=dXDV+aJf7+vy9tGfF6NEG6JHYJpRp07NSgq6dBd0hbmrTlvQWByHc6GxOwr23miiYqRIsjtD6FZy+AStxgGDXg==;EndpointSuffix=core.windows.net'\n",
    "\n",
    "blob_service_client = BlobServiceClient.from_connection_string(connect_string) "
   ]
  },
  {
   "cell_type": "markdown",
   "id": "daf6cbcc",
   "metadata": {},
   "source": [
    "Container 생성 한다."
   ]
  },
  {
   "cell_type": "code",
   "execution_count": 4,
   "id": "884a2a73",
   "metadata": {},
   "outputs": [
    {
     "name": "stdout",
     "output_type": "stream",
     "text": [
      "296dd71d-1117-4ea0-af78-5e23d4c9f2c5\n"
     ]
    }
   ],
   "source": [
    "container_name = str(uuid.uuid4())\n",
    "print(container_name)\n",
    "\n",
    "container_client = blob_service_client.create_container(container_name)"
   ]
  },
  {
   "cell_type": "markdown",
   "id": "ea056164",
   "metadata": {},
   "source": [
    "데이터를 업로드 한다."
   ]
  },
  {
   "cell_type": "code",
   "execution_count": 11,
   "id": "08a9241c",
   "metadata": {},
   "outputs": [],
   "source": [
    "local_path = './data'\n",
    "os.mkdir(local_path)  # data폴더 만들기\n",
    "\n",
    "local_file_name = str(uuid.uuid4()) + '.txt'\n",
    "upload_file_path = os.path.join(local_path, local_file_name)"
   ]
  },
  {
   "cell_type": "markdown",
   "id": "c7fb74bd",
   "metadata": {},
   "source": [
    "업로드 할 파일을 준비한다."
   ]
  },
  {
   "cell_type": "code",
   "execution_count": 12,
   "id": "f94e2843",
   "metadata": {},
   "outputs": [],
   "source": [
    "file = open(file=upload_file_path, mode='w')\n",
    "file.write('Hello Azure Storage')\n",
    "file.close()\n",
    "\n",
    "blob_client = blob_service_client.get_blob_client(container=container_name, blob=local_file_name)\n",
    "\n",
    "# 파일 업로드\n",
    "with open(file=upload_file_path, mode='rb') as data:\n",
    "    blob_client.upload_blob(data)"
   ]
  },
  {
   "cell_type": "markdown",
   "id": "fa6f4d31",
   "metadata": {},
   "source": [
    "파일의 목록 확인"
   ]
  },
  {
   "cell_type": "code",
   "execution_count": 14,
   "id": "99a6f08f",
   "metadata": {},
   "outputs": [
    {
     "name": "stdout",
     "output_type": "stream",
     "text": [
      "\tc945d83d-a6c5-41e7-ab71-a84bd1721b7f.txt\n"
     ]
    }
   ],
   "source": [
    "blob_list = container_client.list_blobs()\n",
    "for blob in blob_list:\n",
    "    print('\\t' + blob.name)"
   ]
  },
  {
   "cell_type": "code",
   "execution_count": 17,
   "id": "9cbb7b71",
   "metadata": {},
   "outputs": [],
   "source": [
    "# 업로드된 파일의 다운로드\n",
    "download_file_path = os.path.join(local_path, str.replace(local_file_name, '.txt', 'DOWNLOAD.txt'))\n",
    "container_client = blob_service_client.get_container_client(container=container_name)\n",
    "\n",
    "with open(file=download_file_path, mode='wb') as download_file:\n",
    "    download_file.write(container_client.download_blob(blob.name).readall())"
   ]
  },
  {
   "cell_type": "code",
   "execution_count": 18,
   "id": "5ba594b1",
   "metadata": {},
   "outputs": [
    {
     "name": "stdout",
     "output_type": "stream",
     "text": [
      "Press the Enter key to begin clean up\n",
      "\n",
      "Deleting blob container...\n",
      "Deleting the local source and downloaded files...\n",
      "Done\n"
     ]
    }
   ],
   "source": [
    "# 실습한 자원의 정리\n",
    "print('Press the Enter key to begin clean up')\n",
    "input()\n",
    "\n",
    "print('Deleting blob container...')\n",
    "container_client.delete_container()\n",
    "\n",
    "print('Deleting the local source and downloaded files...')\n",
    "os.remove(upload_file_path)\n",
    "os.remove(download_file_path)\n",
    "os.rmdir(local_path)\n",
    "\n",
    "print('Done')"
   ]
  },
  {
   "cell_type": "code",
   "execution_count": null,
   "id": "bbcde38d",
   "metadata": {},
   "outputs": [],
   "source": []
  }
 ],
 "metadata": {
  "kernelspec": {
   "display_name": "Python 3 (ipykernel)",
   "language": "python",
   "name": "python3"
  },
  "language_info": {
   "codemirror_mode": {
    "name": "ipython",
    "version": 3
   },
   "file_extension": ".py",
   "mimetype": "text/x-python",
   "name": "python",
   "nbconvert_exporter": "python",
   "pygments_lexer": "ipython3",
   "version": "3.9.12"
  }
 },
 "nbformat": 4,
 "nbformat_minor": 5
}
