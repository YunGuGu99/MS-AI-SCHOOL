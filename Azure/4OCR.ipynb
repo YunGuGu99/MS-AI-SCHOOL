{
 "cells": [
  {
   "cell_type": "code",
   "execution_count": null,
   "id": "096fa197",
   "metadata": {},
   "outputs": [],
   "source": [
    "import requests\n",
    "from PIL import Image, ImageDraw, ImageFont\n",
    "from io import BytesIO"
   ]
  },
  {
   "cell_type": "code",
   "execution_count": null,
   "id": "c7f02509",
   "metadata": {},
   "outputs": [],
   "source": [
    "subscription_key = ''\n",
    "vision_base_url = ''\n",
    "ocr_url = vision_base_url + 'ocr'"
   ]
  },
  {
   "cell_type": "code",
   "execution_count": null,
   "id": "e373899b",
   "metadata": {},
   "outputs": [],
   "source": [
    "image_url = 'https://i.stack.imgur.com/WiDpa.jpg%27'"
   ]
  },
  {
   "cell_type": "code",
   "execution_count": null,
   "id": "d8f5f8d5",
   "metadata": {},
   "outputs": [],
   "source": [
    "image = Image.open(BytesIO(requests.get(image_url).content))\n",
    "image"
   ]
  },
  {
   "cell_type": "code",
   "execution_count": null,
   "id": "b484ded2",
   "metadata": {},
   "outputs": [],
   "source": [
    "headers = {'Ocp-Apim-Subscription-Key': subscription_key}\n",
    "params = {'language': 'unk', 'detectOrientation': 'true'}\n",
    "data = {'url': image_url}"
   ]
  },
  {
   "cell_type": "code",
   "execution_count": null,
   "id": "90f05c6f",
   "metadata": {},
   "outputs": [],
   "source": [
    "response = requests.post(ocr_url, headers=headers, params=params, json=data)"
   ]
  },
  {
   "cell_type": "code",
   "execution_count": null,
   "id": "308f6179",
   "metadata": {},
   "outputs": [],
   "source": [
    "result = response.json()\n",
    "result"
   ]
  },
  {
   "cell_type": "code",
   "execution_count": null,
   "id": "01e0b628",
   "metadata": {},
   "outputs": [],
   "source": [
    "for region in result['regions']:\n",
    "  lines = region['lines']\n",
    "\n",
    "  for line in lines:\n",
    "    words = line['words']\n",
    "\n",
    "    for word in words:\n",
    "      print(word['text'])"
   ]
  },
  {
   "cell_type": "code",
   "execution_count": null,
   "id": "f92c3e32",
   "metadata": {},
   "outputs": [],
   "source": [
    "image_url = \"https://www.unikorea.go.kr/unikorea/common/images/content/peace.png\"\n",
    "image = Image.open(BytesIO(requests.get(image_url).content))\n",
    "image"
   ]
  },
  {
   "cell_type": "code",
   "execution_count": null,
   "id": "b57a85c0",
   "metadata": {},
   "outputs": [],
   "source": [
    "headers = {'Ocp-Apim-Subscription-Key': subscription_key}\n",
    "params = {'language': 'ko', 'detectOrientation': 'true'}\n",
    "data = {'url': image_url}"
   ]
  },
  {
   "cell_type": "code",
   "execution_count": null,
   "id": "33a32a1f",
   "metadata": {},
   "outputs": [],
   "source": [
    "response = requests.post(ocr_url, headers=headers, params=params, json=data)"
   ]
  },
  {
   "cell_type": "code",
   "execution_count": null,
   "id": "51dcc7e1",
   "metadata": {},
   "outputs": [],
   "source": [
    "result = response.json()\n",
    "result"
   ]
  },
  {
   "cell_type": "code",
   "execution_count": null,
   "id": "22023f35",
   "metadata": {},
   "outputs": [],
   "source": [
    "for region in result['regions']:\n",
    "  lines = region['lines']\n",
    "\n",
    "  for line in lines:\n",
    "    words = line['words']\n",
    "\n",
    "    for word in words:\n",
    "      print(word['text'])"
   ]
  }
 ],
 "metadata": {
  "kernelspec": {
   "display_name": "Python 3 (ipykernel)",
   "language": "python",
   "name": "python3"
  },
  "language_info": {
   "codemirror_mode": {
    "name": "ipython",
    "version": 3
   },
   "file_extension": ".py",
   "mimetype": "text/x-python",
   "name": "python",
   "nbconvert_exporter": "python",
   "pygments_lexer": "ipython3",
   "version": "3.9.12"
  }
 },
 "nbformat": 4,
 "nbformat_minor": 5
}
