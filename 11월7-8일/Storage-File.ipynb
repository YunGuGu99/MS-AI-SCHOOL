{
 "cells": [
  {
   "cell_type": "code",
   "execution_count": 4,
   "id": "8ad5f307",
   "metadata": {},
   "outputs": [
    {
     "name": "stdout",
     "output_type": "stream",
     "text": [
      "Requirement already satisfied: azure-storage-file in c:\\users\\user\\anaconda3\\lib\\site-packages (2.1.0)\n",
      "Requirement already satisfied: azure-storage-common~=2.1 in c:\\users\\user\\anaconda3\\lib\\site-packages (from azure-storage-file) (2.1.0)\n",
      "Requirement already satisfied: azure-common>=1.1.5 in c:\\users\\user\\anaconda3\\lib\\site-packages (from azure-storage-file) (1.1.28)\n",
      "Requirement already satisfied: python-dateutil in c:\\users\\user\\anaconda3\\lib\\site-packages (from azure-storage-common~=2.1->azure-storage-file) (2.8.2)\n",
      "Requirement already satisfied: cryptography in c:\\users\\user\\anaconda3\\lib\\site-packages (from azure-storage-common~=2.1->azure-storage-file) (3.4.8)\n",
      "Requirement already satisfied: requests in c:\\users\\user\\anaconda3\\lib\\site-packages (from azure-storage-common~=2.1->azure-storage-file) (2.27.1)\n",
      "Requirement already satisfied: cffi>=1.12 in c:\\users\\user\\anaconda3\\lib\\site-packages (from cryptography->azure-storage-common~=2.1->azure-storage-file) (1.15.0)\n",
      "Requirement already satisfied: pycparser in c:\\users\\user\\anaconda3\\lib\\site-packages (from cffi>=1.12->cryptography->azure-storage-common~=2.1->azure-storage-file) (2.21)\n",
      "Requirement already satisfied: six>=1.5 in c:\\users\\user\\anaconda3\\lib\\site-packages (from python-dateutil->azure-storage-common~=2.1->azure-storage-file) (1.16.0)\n",
      "Requirement already satisfied: idna<4,>=2.5 in c:\\users\\user\\anaconda3\\lib\\site-packages (from requests->azure-storage-common~=2.1->azure-storage-file) (2.10)\n",
      "Requirement already satisfied: urllib3<1.27,>=1.21.1 in c:\\users\\user\\anaconda3\\lib\\site-packages (from requests->azure-storage-common~=2.1->azure-storage-file) (1.26.9)\n",
      "Requirement already satisfied: charset-normalizer~=2.0.0 in c:\\users\\user\\anaconda3\\lib\\site-packages (from requests->azure-storage-common~=2.1->azure-storage-file) (2.0.4)\n",
      "Requirement already satisfied: certifi>=2017.4.17 in c:\\users\\user\\anaconda3\\lib\\site-packages (from requests->azure-storage-common~=2.1->azure-storage-file) (2021.10.8)\n"
     ]
    }
   ],
   "source": [
    "!pip install azure-storage-file"
   ]
  },
  {
   "cell_type": "code",
   "execution_count": 9,
   "id": "b029aab2",
   "metadata": {},
   "outputs": [],
   "source": [
    "# File Share 연결하는 코드\n",
    "\n",
    "from azure.storage.file import FileService\n",
    "file_service = FileService(account_name='labuser39storage', account_key='GzEkV8vA8UmZHjgozEhoAVFSUhvtA7RKx2TLbCxqzyd0NObYpixPozOmnfDou6oa2YGxpVAtH+mv+AStIw9F7w==')"
   ]
  },
  {
   "cell_type": "code",
   "execution_count": 10,
   "id": "787d046f",
   "metadata": {},
   "outputs": [
    {
     "data": {
      "text/plain": [
       "False"
      ]
     },
     "execution_count": 10,
     "metadata": {},
     "output_type": "execute_result"
    }
   ],
   "source": [
    "# myshare 공유 폴더를 생성\n",
    "\n",
    "file_service.create_share('myshare')"
   ]
  },
  {
   "cell_type": "code",
   "execution_count": 11,
   "id": "6f943514",
   "metadata": {},
   "outputs": [
    {
     "data": {
      "text/plain": [
       "False"
      ]
     },
     "execution_count": 11,
     "metadata": {},
     "output_type": "execute_result"
    }
   ],
   "source": [
    "# myshare 안에 샘플 디렉토리인 sampledir을 생성한다.\n",
    "\n",
    "file_service.create_directory('myshare', 'sampledir')"
   ]
  },
  {
   "cell_type": "code",
   "execution_count": 12,
   "id": "0d435119",
   "metadata": {},
   "outputs": [],
   "source": [
    "# 다운로드.jpg를 myfile로 해당 공유 폴더에 복사한다. \n",
    "\n",
    "from azure.storage.file import ContentSettings\n",
    "file_service.create_file_from_path(\n",
    "    'myshare',\n",
    "    None,  # We want to create this file in the root directory, so we specify None for the directory_name\n",
    "    'myfile',\n",
    "    '다운로드.jpg',\n",
    "    content_settings=ContentSettings(content_type='image/png'))"
   ]
  },
  {
   "cell_type": "code",
   "execution_count": 13,
   "id": "c6fe9684",
   "metadata": {},
   "outputs": [
    {
     "name": "stdout",
     "output_type": "stream",
     "text": [
      "myfile\n",
      "sampledir\n"
     ]
    }
   ],
   "source": [
    "# 공유 폴더안에 파일 목록을 가져와서 보여준다.\n",
    "\n",
    "generator = file_service.list_directories_and_files('myshare')\n",
    "for file_or_dir in generator:\n",
    "    print(file_or_dir.name)"
   ]
  },
  {
   "cell_type": "code",
   "execution_count": 14,
   "id": "4ffd3001",
   "metadata": {},
   "outputs": [
    {
     "data": {
      "text/plain": [
       "<azure.storage.file.models.File at 0x2435d8cbdf0>"
      ]
     },
     "execution_count": 14,
     "metadata": {},
     "output_type": "execute_result"
    }
   ],
   "source": [
    "# 다시 myfile로 복사된 다운로드.jpg를 out-다운로드.jpg로 가져온다. \n",
    "\n",
    "file_service.get_file_to_path('myshare', None, 'myfile', '다운로드.jpg')"
   ]
  },
  {
   "cell_type": "code",
   "execution_count": 15,
   "id": "2b9ec95d",
   "metadata": {},
   "outputs": [],
   "source": [
    "# 스넵샷을 찍어둔다. \n",
    "\n",
    "metadata = {\"foo\": \"bar\"}\n",
    "snapshot = file_service.snapshot_share('myshare', metadata=metadata)"
   ]
  },
  {
   "cell_type": "code",
   "execution_count": 16,
   "id": "1f9f3b03",
   "metadata": {},
   "outputs": [
    {
     "name": "stdout",
     "output_type": "stream",
     "text": [
      "2022-11-08T00:19:52.0000000Z\n",
      "2022-11-08T00:26:35.0000000Z\n",
      "2022-11-08T00:40:45.0000000Z\n",
      "None\n"
     ]
    }
   ],
   "source": [
    "# 전체 스넵샷의 목록을 가져온다. \n",
    "\n",
    "shares = list(file_service.list_shares(include_snapshots=True))\n",
    "\n",
    "for s in shares:\n",
    "    print(s.snapshot)"
   ]
  },
  {
   "cell_type": "code",
   "execution_count": 20,
   "id": "9440312c",
   "metadata": {},
   "outputs": [],
   "source": [
    "# 스넵샷의 파일과 디렉토리 목록을 가져온다. \n",
    "\n",
    "directories_and_files = list(\n",
    "    file_service.list_directories_and_files('myshare', snapshot='2022-11-08T00:19:52.0000000Z'))"
   ]
  },
  {
   "cell_type": "code",
   "execution_count": 21,
   "id": "542942ee",
   "metadata": {},
   "outputs": [
    {
     "name": "stdout",
     "output_type": "stream",
     "text": [
      "myfile\n",
      "sampledir\n"
     ]
    }
   ],
   "source": [
    "# 파일과 디렉토리 목록을 출력한다. \n",
    "\n",
    "directories_and_files\n",
    "for file_or_dir in generator:\n",
    "    print(file_or_dir.name)"
   ]
  },
  {
   "cell_type": "code",
   "execution_count": 22,
   "id": "d7fc32c3",
   "metadata": {},
   "outputs": [
    {
     "data": {
      "text/plain": [
       "True"
      ]
     },
     "execution_count": 22,
     "metadata": {},
     "output_type": "execute_result"
    }
   ],
   "source": [
    "# 스넵샷의 삭제 \n",
    "\n",
    "file_service.delete_share('myshare', snapshot='2022-11-08T00:19:52.0000000Z')"
   ]
  },
  {
   "cell_type": "code",
   "execution_count": 23,
   "id": "10b51c16",
   "metadata": {},
   "outputs": [],
   "source": [
    "# 공유 폴더내의 파일의 삭제\n",
    "\n",
    "file_service.delete_file('myshare', None, 'myfile')"
   ]
  },
  {
   "cell_type": "code",
   "execution_count": 27,
   "id": "0112de26",
   "metadata": {},
   "outputs": [
    {
     "data": {
      "text/plain": [
       "True"
      ]
     },
     "execution_count": 27,
     "metadata": {},
     "output_type": "execute_result"
    }
   ],
   "source": [
    "# 공유 폴더의 삭제 \n",
    "\n",
    "file_service.delete_share('myshare')"
   ]
  },
  {
   "cell_type": "code",
   "execution_count": null,
   "id": "60bc36f8",
   "metadata": {},
   "outputs": [],
   "source": []
  }
 ],
 "metadata": {
  "kernelspec": {
   "display_name": "Python 3 (ipykernel)",
   "language": "python",
   "name": "python3"
  },
  "language_info": {
   "codemirror_mode": {
    "name": "ipython",
    "version": 3
   },
   "file_extension": ".py",
   "mimetype": "text/x-python",
   "name": "python",
   "nbconvert_exporter": "python",
   "pygments_lexer": "ipython3",
   "version": "3.9.12"
  }
 },
 "nbformat": 4,
 "nbformat_minor": 5
}
