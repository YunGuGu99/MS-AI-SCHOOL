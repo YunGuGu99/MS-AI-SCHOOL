{
 "cells": [
  {
   "cell_type": "code",
   "execution_count": 2,
   "id": "6c0d6cc7",
   "metadata": {},
   "outputs": [
    {
     "name": "stdout",
     "output_type": "stream",
     "text": [
      "Hello Python\n"
     ]
    },
    {
     "data": {
      "text/plain": [
       "'Hello Python'"
      ]
     },
     "execution_count": 2,
     "metadata": {},
     "output_type": "execute_result"
    }
   ],
   "source": [
    "input()"
   ]
  },
  {
   "cell_type": "code",
   "execution_count": 3,
   "id": "79d535c0",
   "metadata": {},
   "outputs": [
    {
     "name": "stdout",
     "output_type": "stream",
     "text": [
      "좋아하는 가수는?AJR\n"
     ]
    },
    {
     "data": {
      "text/plain": [
       "'AJR'"
      ]
     },
     "execution_count": 3,
     "metadata": {},
     "output_type": "execute_result"
    }
   ],
   "source": [
    "input('좋아하는 가수는?')"
   ]
  },
  {
   "cell_type": "code",
   "execution_count": 4,
   "id": "88fda06d",
   "metadata": {},
   "outputs": [
    {
     "name": "stdout",
     "output_type": "stream",
     "text": [
      "좋아하는 가수는?AJR\n",
      "멤버의 인원수는?3\n",
      "AJR는 모두 3명입니다.\n"
     ]
    }
   ],
   "source": [
    "a = input('좋아하는 가수는?')\n",
    "b = input('멤버의 인원수는?')\n",
    "\n",
    "print('{}는 모두 {}명입니다.'.format(a,b))"
   ]
  },
  {
   "cell_type": "code",
   "execution_count": null,
   "id": "f4e303b5",
   "metadata": {},
   "outputs": [],
   "source": []
  }
 ],
 "metadata": {
  "kernelspec": {
   "display_name": "Python 3 (ipykernel)",
   "language": "python",
   "name": "python3"
  },
  "language_info": {
   "codemirror_mode": {
    "name": "ipython",
    "version": 3
   },
   "file_extension": ".py",
   "mimetype": "text/x-python",
   "name": "python",
   "nbconvert_exporter": "python",
   "pygments_lexer": "ipython3",
   "version": "3.9.12"
  }
 },
 "nbformat": 4,
 "nbformat_minor": 5
}
