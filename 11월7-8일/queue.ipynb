{
 "cells": [
  {
   "cell_type": "code",
   "execution_count": 1,
   "id": "ef03b438",
   "metadata": {},
   "outputs": [
    {
     "name": "stdout",
     "output_type": "stream",
     "text": [
      "Collecting azure-storage-queue==2.1.0\n",
      "  Downloading azure_storage_queue-2.1.0-py2.py3-none-any.whl (24 kB)\n",
      "Requirement already satisfied: azure-common>=1.1.5 in c:\\users\\user\\anaconda3\\lib\\site-packages (from azure-storage-queue==2.1.0) (1.1.28)\n",
      "Requirement already satisfied: azure-storage-common~=2.1 in c:\\users\\user\\anaconda3\\lib\\site-packages (from azure-storage-queue==2.1.0) (2.1.0)\n",
      "Requirement already satisfied: python-dateutil in c:\\users\\user\\anaconda3\\lib\\site-packages (from azure-storage-common~=2.1->azure-storage-queue==2.1.0) (2.8.2)\n",
      "Requirement already satisfied: requests in c:\\users\\user\\anaconda3\\lib\\site-packages (from azure-storage-common~=2.1->azure-storage-queue==2.1.0) (2.27.1)\n",
      "Requirement already satisfied: cryptography in c:\\users\\user\\anaconda3\\lib\\site-packages (from azure-storage-common~=2.1->azure-storage-queue==2.1.0) (3.4.8)\n",
      "Requirement already satisfied: cffi>=1.12 in c:\\users\\user\\anaconda3\\lib\\site-packages (from cryptography->azure-storage-common~=2.1->azure-storage-queue==2.1.0) (1.15.0)\n",
      "Requirement already satisfied: pycparser in c:\\users\\user\\anaconda3\\lib\\site-packages (from cffi>=1.12->cryptography->azure-storage-common~=2.1->azure-storage-queue==2.1.0) (2.21)\n",
      "Requirement already satisfied: six>=1.5 in c:\\users\\user\\anaconda3\\lib\\site-packages (from python-dateutil->azure-storage-common~=2.1->azure-storage-queue==2.1.0) (1.16.0)\n",
      "Requirement already satisfied: charset-normalizer~=2.0.0 in c:\\users\\user\\anaconda3\\lib\\site-packages (from requests->azure-storage-common~=2.1->azure-storage-queue==2.1.0) (2.0.4)\n",
      "Requirement already satisfied: idna<4,>=2.5 in c:\\users\\user\\anaconda3\\lib\\site-packages (from requests->azure-storage-common~=2.1->azure-storage-queue==2.1.0) (2.10)\n",
      "Requirement already satisfied: urllib3<1.27,>=1.21.1 in c:\\users\\user\\anaconda3\\lib\\site-packages (from requests->azure-storage-common~=2.1->azure-storage-queue==2.1.0) (1.26.9)\n",
      "Requirement already satisfied: certifi>=2017.4.17 in c:\\users\\user\\anaconda3\\lib\\site-packages (from requests->azure-storage-common~=2.1->azure-storage-queue==2.1.0) (2021.10.8)\n",
      "Installing collected packages: azure-storage-queue\n",
      "Successfully installed azure-storage-queue-2.1.0\n"
     ]
    }
   ],
   "source": [
    "!pip install azure-storage-queue==2.1.0"
   ]
  },
  {
   "cell_type": "code",
   "execution_count": 3,
   "id": "c33e1056",
   "metadata": {},
   "outputs": [],
   "source": [
    "from azure.storage.queue import QueueService, QueueMessageFormat"
   ]
  },
  {
   "cell_type": "code",
   "execution_count": 4,
   "id": "2f68651e",
   "metadata": {},
   "outputs": [],
   "source": [
    "import os, uuid"
   ]
  },
  {
   "cell_type": "code",
   "execution_count": 8,
   "id": "b46b06bd",
   "metadata": {},
   "outputs": [
    {
     "name": "stdout",
     "output_type": "stream",
     "text": [
      "Creating queue:queue-f1b899f9-8413-404c-8c70-99ae9f252c97\n"
     ]
    },
    {
     "data": {
      "text/plain": [
       "True"
      ]
     },
     "execution_count": 8,
     "metadata": {},
     "output_type": "execute_result"
    }
   ],
   "source": [
    "connect_str = 'DefaultEndpointsProtocol=https;AccountName=labuser39storage;AccountKey=GzEkV8vA8UmZHjgozEhoAVFSUhvtA7RKx2TLbCxqzyd0NObYpixPozOmnfDou6oa2YGxpVAtH+mv+AStIw9F7w==;EndpointSuffix=core.windows.net'\n",
    "queue_name = 'queue-' + str(uuid.uuid4())\n",
    "\n",
    "print('Creating queue:' + queue_name)\n",
    "queue_service = QueueService(connection_string=connect_str)\n",
    "\n",
    "queue_service.create_queue(queue_name)"
   ]
  },
  {
   "cell_type": "code",
   "execution_count": 26,
   "id": "f08d9dfd",
   "metadata": {},
   "outputs": [
    {
     "name": "stdout",
     "output_type": "stream",
     "text": [
      "Adding message: Hello, World\n"
     ]
    },
    {
     "data": {
      "text/plain": [
       "<azure.storage.queue.models.QueueMessage at 0x1ee164557c0>"
      ]
     },
     "execution_count": 26,
     "metadata": {},
     "output_type": "execute_result"
    }
   ],
   "source": [
    "# Setup Base64 encoding and decoding functions\n",
    "queue_service.encode_function = QueueMessageFormat.binary_base64encode\n",
    "queue_service.decode_function = QueueMessageFormat.binary_base64decode\n",
    "\n",
    "import base64\n",
    "message = \"Hello, World\"\n",
    "print(\"Adding message: \" + message)\n",
    "message = base64.b64encode(message.encode('utf-8'))\n",
    "queue_service.put_message(queue_name, message)"
   ]
  },
  {
   "cell_type": "code",
   "execution_count": 27,
   "id": "be4f9d47",
   "metadata": {},
   "outputs": [
    {
     "name": "stdout",
     "output_type": "stream",
     "text": [
      "Peeked message: Hello Queue\n"
     ]
    }
   ],
   "source": [
    "messages = queue_service.peek_messages(queue_name)\n",
    "\n",
    "for peeked_message in messages:\n",
    "    message = base64.b64decode(peeked_message.content)\n",
    "    print(\"Peeked message: \" + message.decode('utf-8'))"
   ]
  },
  {
   "cell_type": "code",
   "execution_count": 28,
   "id": "3dae4796",
   "metadata": {},
   "outputs": [
    {
     "name": "stdout",
     "output_type": "stream",
     "text": [
      "Message: Hello Queue\n"
     ]
    }
   ],
   "source": [
    "message = queue_service.get_messages(queue_name)\n",
    "\n",
    "for msg in messages:\n",
    "    message = base64.b64decode(msg.content)\n",
    "    print('Message: ' + message.decode('utf-8'))"
   ]
  },
  {
   "cell_type": "code",
   "execution_count": 29,
   "id": "c72a3abb",
   "metadata": {},
   "outputs": [
    {
     "name": "stdout",
     "output_type": "stream",
     "text": [
      "Deleting queue: queue-f1b899f9-8413-404c-8c70-99ae9f252c97\n"
     ]
    },
    {
     "data": {
      "text/plain": [
       "True"
      ]
     },
     "execution_count": 29,
     "metadata": {},
     "output_type": "execute_result"
    }
   ],
   "source": [
    "print('Deleting queue: ' + queue_name)\n",
    "queue_service.delete_queue(queue_name)"
   ]
  },
  {
   "cell_type": "code",
   "execution_count": null,
   "id": "1cfffefc",
   "metadata": {},
   "outputs": [],
   "source": []
  }
 ],
 "metadata": {
  "kernelspec": {
   "display_name": "Python 3 (ipykernel)",
   "language": "python",
   "name": "python3"
  },
  "language_info": {
   "codemirror_mode": {
    "name": "ipython",
    "version": 3
   },
   "file_extension": ".py",
   "mimetype": "text/x-python",
   "name": "python",
   "nbconvert_exporter": "python",
   "pygments_lexer": "ipython3",
   "version": "3.9.12"
  }
 },
 "nbformat": 4,
 "nbformat_minor": 5
}
