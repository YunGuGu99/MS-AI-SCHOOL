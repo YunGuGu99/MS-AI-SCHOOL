{
 "cells": [
  {
   "cell_type": "code",
   "execution_count": null,
   "id": "a9b411b0",
   "metadata": {},
   "outputs": [],
   "source": [
    "pip install azure-cognitiveservices-vision-customvision"
   ]
  },
  {
   "cell_type": "code",
   "execution_count": null,
   "id": "c688339e",
   "metadata": {},
   "outputs": [],
   "source": [
    "from azure.cognitiveservices.vision.customvision.training import CustomVisionTrainingClient\n",
    "from azure.cognitiveservices.vision.customvision.prediction import CustomVisionPredictionClient\n",
    "from azure.cognitiveservices.vision.customvision.training.models import ImageFileCreateBatch, ImageFileCreateEntry, Region\n",
    "from msrest.authentication import ApiKeyCredentials\n",
    "import os, time, uuid"
   ]
  },
  {
   "cell_type": "code",
   "execution_count": null,
   "id": "a5d2947d",
   "metadata": {},
   "outputs": [],
   "source": [
    "ENDPOINT = ''\n",
    "\n",
    "training_key = ''\n",
    "prediction_key = ''\n",
    "prediction_resource_id = ''"
   ]
  },
  {
   "cell_type": "code",
   "execution_count": null,
   "id": "03782b26",
   "metadata": {},
   "outputs": [],
   "source": [
    "publish_iteration_name = \"classifyModel\"\n",
    "\n",
    "credentials = ApiKeyCredentials(in_headers={\"Training-key\": training_key})\n",
    "trainer = CustomVisionTrainingClient(ENDPOINT, credentials)"
   ]
  },
  {
   "cell_type": "code",
   "execution_count": null,
   "id": "4a8fdf44",
   "metadata": {},
   "outputs": [],
   "source": [
    "print(\"Creating project...\")\n",
    "project = trainer.create_project(\"Labuser39 Project\")"
   ]
  },
  {
   "cell_type": "code",
   "execution_count": null,
   "id": "41092f29",
   "metadata": {},
   "outputs": [],
   "source": [
    "jjajangmyeon_tag = trainer.create_tag(project.id, \"jjajangmyeon\")\n",
    "Champon_tag = trainer.create_tag(project.id, \"Champon\")\n",
    "tangsuyug_tag = trainer.create_tag(project.id, \"tangsuyug\")"
   ]
  },
  {
   "cell_type": "code",
   "execution_count": null,
   "id": "bcc58595",
   "metadata": {},
   "outputs": [],
   "source": [
    "import time"
   ]
  },
  {
   "cell_type": "code",
   "execution_count": null,
   "id": "04bdee2c",
   "metadata": {},
   "outputs": [],
   "source": [
    "print('Training....')\n",
    "iteration = trainer.train_project(project.id)\n",
    "while (iteration.status != 'Completed'):\n",
    "  iteration = trainer.get_iteration(project.id, iteration.id)\n",
    "  print('Training status' + iteration.status)\n",
    "\n",
    "  time.sleep(1) \n",
    "\n",
    "print('Done!')"
   ]
  }
 ],
 "metadata": {
  "kernelspec": {
   "display_name": "Python 3 (ipykernel)",
   "language": "python",
   "name": "python3"
  },
  "language_info": {
   "codemirror_mode": {
    "name": "ipython",
    "version": 3
   },
   "file_extension": ".py",
   "mimetype": "text/x-python",
   "name": "python",
   "nbconvert_exporter": "python",
   "pygments_lexer": "ipython3",
   "version": "3.9.12"
  }
 },
 "nbformat": 4,
 "nbformat_minor": 5
}
