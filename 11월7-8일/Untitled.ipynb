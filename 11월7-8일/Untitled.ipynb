{
 "cells": [
  {
   "cell_type": "code",
   "execution_count": 1,
   "id": "8ff6f883",
   "metadata": {},
   "outputs": [
    {
     "name": "stdout",
     "output_type": "stream",
     "text": [
      "Collecting azure-eventhub\n",
      "  Downloading azure_eventhub-5.10.1-py3-none-any.whl (150 kB)\n",
      "Collecting uamqp<2.0.0,>=1.6.0\n",
      "  Downloading uamqp-1.6.3-cp39-cp39-win_amd64.whl (849 kB)\n",
      "Requirement already satisfied: azure-core<2.0.0,>=1.14.0 in c:\\users\\user\\anaconda3\\lib\\site-packages (from azure-eventhub) (1.26.1)\n",
      "Requirement already satisfied: typing-extensions>=4.0.1 in c:\\users\\user\\anaconda3\\lib\\site-packages (from azure-eventhub) (4.1.1)\n",
      "Requirement already satisfied: requests>=2.18.4 in c:\\users\\user\\anaconda3\\lib\\site-packages (from azure-core<2.0.0,>=1.14.0->azure-eventhub) (2.27.1)\n",
      "Requirement already satisfied: six>=1.11.0 in c:\\users\\user\\anaconda3\\lib\\site-packages (from azure-core<2.0.0,>=1.14.0->azure-eventhub) (1.16.0)\n",
      "Requirement already satisfied: urllib3<1.27,>=1.21.1 in c:\\users\\user\\anaconda3\\lib\\site-packages (from requests>=2.18.4->azure-core<2.0.0,>=1.14.0->azure-eventhub) (1.26.9)\n",
      "Requirement already satisfied: idna<4,>=2.5 in c:\\users\\user\\anaconda3\\lib\\site-packages (from requests>=2.18.4->azure-core<2.0.0,>=1.14.0->azure-eventhub) (2.10)\n",
      "Requirement already satisfied: certifi>=2017.4.17 in c:\\users\\user\\anaconda3\\lib\\site-packages (from requests>=2.18.4->azure-core<2.0.0,>=1.14.0->azure-eventhub) (2021.10.8)\n",
      "Requirement already satisfied: charset-normalizer~=2.0.0 in c:\\users\\user\\anaconda3\\lib\\site-packages (from requests>=2.18.4->azure-core<2.0.0,>=1.14.0->azure-eventhub) (2.0.4)\n",
      "Installing collected packages: uamqp, azure-eventhub\n",
      "Successfully installed azure-eventhub-5.10.1 uamqp-1.6.3\n"
     ]
    }
   ],
   "source": [
    "!pip install azure-eventhub"
   ]
  },
  {
   "cell_type": "code",
   "execution_count": 3,
   "id": "8b681aff",
   "metadata": {},
   "outputs": [],
   "source": [
    "from azure.eventhub.aio import EventHubProducerClient\n",
    "from azure.eventhub import EventData"
   ]
  },
  {
   "cell_type": "code",
   "execution_count": 5,
   "id": "c0b7367d",
   "metadata": {},
   "outputs": [],
   "source": [
    "eventhub = EventHubProducerClient.from_connection_string(conn_str='Endpoint=sb://labuser39eventhub.servicebus.windows.net/;SharedAccessKeyName=me;SharedAccessKey=AzDs0fJivCQ290jnxucDnYBC0VKMsHzhsF1MkE2YcOA=;EntityPath=event1')"
   ]
  },
  {
   "cell_type": "code",
   "execution_count": null,
   "id": "059095a4",
   "metadata": {},
   "outputs": [
    {
     "name": "stderr",
     "output_type": "stream",
     "text": [
      "C:\\Users\\user\\AppData\\Local\\Temp\\ipykernel_10948\\1757900977.py:7: RuntimeWarning: coroutine 'EventHubProducerClient.send_event' was never awaited\n",
      "  eventhub.send_event(EventData(message))\n",
      "RuntimeWarning: Enable tracemalloc to get the object allocation traceback\n"
     ]
    },
    {
     "name": "stdout",
     "output_type": "stream",
     "text": [
      "message 1 sending...\n",
      "message 2 sending...\n",
      "message 3 sending...\n",
      "message 4 sending...\n",
      "message 5 sending...\n",
      "message 6 sending...\n",
      "message 7 sending...\n",
      "message 8 sending...\n",
      "message 9 sending...\n"
     ]
    }
   ],
   "source": [
    "import time\n",
    "from datetime import datetime\n",
    "\n",
    "i=0\n",
    "while(1):\n",
    "    message = 'time: ' + str(datetime.now())\n",
    "    eventhub.send_event(EventData(message))\n",
    "    \n",
    "    i+=1\n",
    "    if i//10==0:\n",
    "        print('message {} sending...'.format(i))\n",
    "    \n",
    "    time.sleep(2)"
   ]
  },
  {
   "cell_type": "code",
   "execution_count": null,
   "id": "3e79858b",
   "metadata": {},
   "outputs": [],
   "source": []
  }
 ],
 "metadata": {
  "kernelspec": {
   "display_name": "Python 3 (ipykernel)",
   "language": "python",
   "name": "python3"
  },
  "language_info": {
   "codemirror_mode": {
    "name": "ipython",
    "version": 3
   },
   "file_extension": ".py",
   "mimetype": "text/x-python",
   "name": "python",
   "nbconvert_exporter": "python",
   "pygments_lexer": "ipython3",
   "version": "3.9.12"
  }
 },
 "nbformat": 4,
 "nbformat_minor": 5
}
