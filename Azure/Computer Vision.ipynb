{
 "cells": [
  {
   "cell_type": "markdown",
   "id": "f9c5eea2",
   "metadata": {},
   "source": [
    "Computer Vision Object Dectection\n",
    "\n",
    "Computer Vision API를 사용해서 이미지속에 있는 사물을 인식하는 데모 입니다.\n",
    "\n",
    "네트워크 통신을 위해서 requests 패키지를 import 합니다."
   ]
  },
  {
   "cell_type": "code",
   "execution_count": 1,
   "id": "a2b01cca",
   "metadata": {},
   "outputs": [],
   "source": [
    "import requests"
   ]
  },
  {
   "cell_type": "markdown",
   "id": "cbf84979",
   "metadata": {},
   "source": [
    "이미지처리를 위해서 matplotlib.pyplot, Image, BytesIO 세 개의 패키지를 import 합니다.\n",
    "\n",
    "matplotlib.pyplot는 import 할 때 시간이 조금 걸릴 수 있습니다."
   ]
  },
  {
   "cell_type": "code",
   "execution_count": 2,
   "id": "f091242c",
   "metadata": {},
   "outputs": [
    {
     "ename": "ImportError",
     "evalue": "cannot import name 'image' from 'PIL' (C:\\Users\\user\\anaconda3\\lib\\site-packages\\PIL\\__init__.py)",
     "output_type": "error",
     "traceback": [
      "\u001b[1;31m---------------------------------------------------------------------------\u001b[0m",
      "\u001b[1;31mImportError\u001b[0m                               Traceback (most recent call last)",
      "Input \u001b[1;32mIn [2]\u001b[0m, in \u001b[0;36m<cell line: 2>\u001b[1;34m()\u001b[0m\n\u001b[0;32m      1\u001b[0m \u001b[38;5;28;01mimport\u001b[39;00m \u001b[38;5;21;01mmatplotlib\u001b[39;00m\u001b[38;5;21;01m.\u001b[39;00m\u001b[38;5;21;01mpyplot\u001b[39;00m \u001b[38;5;28;01mas\u001b[39;00m \u001b[38;5;21;01mplt\u001b[39;00m\n\u001b[1;32m----> 2\u001b[0m \u001b[38;5;28;01mfrom\u001b[39;00m \u001b[38;5;21;01mPIL\u001b[39;00m \u001b[38;5;28;01mimport\u001b[39;00m image\n",
      "\u001b[1;31mImportError\u001b[0m: cannot import name 'image' from 'PIL' (C:\\Users\\user\\anaconda3\\lib\\site-packages\\PIL\\__init__.py)"
     ]
    }
   ],
   "source": [
    "import matplotlib.pyplot as plt\n",
    "from PIL import image"
   ]
  },
  {
   "cell_type": "markdown",
   "id": "7293343f",
   "metadata": {},
   "source": [
    "Subscription Key와 접속에 필요한 URL을 설정합니다."
   ]
  },
  {
   "cell_type": "code",
   "execution_count": null,
   "id": "4b603727",
   "metadata": {},
   "outputs": [],
   "source": [
    "subscription_key = ''\n",
    "vision_base_url =  ''"
   ]
  },
  {
   "cell_type": "code",
   "execution_count": null,
   "id": "cf96e5b5",
   "metadata": {},
   "outputs": [],
   "source": [
    "analyze_url = vision_base_url + 'analyze'"
   ]
  },
  {
   "cell_type": "markdown",
   "id": "cb686e1c",
   "metadata": {},
   "source": [
    "분석에 사용되는 이미지를 확인 합니다."
   ]
  },
  {
   "cell_type": "code",
   "execution_count": null,
   "id": "864c4fb1",
   "metadata": {},
   "outputs": [],
   "source": [
    "image_url = 'https://readme.me/f/2014/569f48510dd031a53ab996fb.jpg'"
   ]
  },
  {
   "cell_type": "code",
   "execution_count": null,
   "id": "c773ef29",
   "metadata": {},
   "outputs": [],
   "source": [
    "con = requests.get(image_url).content\n",
    "byte = BytesIO(con)\n",
    "image = Image.open(byte)\n",
    "\n",
    "#image = Image.open(BytesIO(requests.get(image_url).content))"
   ]
  },
  {
   "cell_type": "code",
   "execution_count": null,
   "id": "242b29fb",
   "metadata": {},
   "outputs": [],
   "source": [
    "headers = {'Ocp-Apim-Subscription-key': subscription_key}\n",
    "params  = {'visualFeatures': 'Categories,Description,Color'}\n",
    "data = {'url': image_url}"
   ]
  },
  {
   "cell_type": "code",
   "execution_count": null,
   "id": "80a2660d",
   "metadata": {},
   "outputs": [],
   "source": [
    "response = requests.post(analyze_url, headers = headers, params = params, json = data) #get or post"
   ]
  },
  {
   "cell_type": "code",
   "execution_count": null,
   "id": "b2238530",
   "metadata": {},
   "outputs": [],
   "source": [
    "result = response.json()"
   ]
  },
  {
   "cell_type": "code",
   "execution_count": null,
   "id": "8a2720bb",
   "metadata": {},
   "outputs": [],
   "source": [
    "result"
   ]
  },
  {
   "cell_type": "code",
   "execution_count": null,
   "id": "a02fd873",
   "metadata": {},
   "outputs": [],
   "source": [
    "image_caption = result['description']['captions'][0]['text']"
   ]
  },
  {
   "cell_type": "code",
   "execution_count": null,
   "id": "e789f4bf",
   "metadata": {},
   "outputs": [],
   "source": [
    "image_caption"
   ]
  },
  {
   "cell_type": "markdown",
   "id": "b75ffc73",
   "metadata": {},
   "source": [
    "# Object Detection"
   ]
  },
  {
   "cell_type": "code",
   "execution_count": 5,
   "id": "bd9e1ccd",
   "metadata": {},
   "outputs": [
    {
     "ename": "NameError",
     "evalue": "name 'vision_base_url' is not defined",
     "output_type": "error",
     "traceback": [
      "\u001b[1;31m---------------------------------------------------------------------------\u001b[0m",
      "\u001b[1;31mNameError\u001b[0m                                 Traceback (most recent call last)",
      "Input \u001b[1;32mIn [5]\u001b[0m, in \u001b[0;36m<cell line: 1>\u001b[1;34m()\u001b[0m\n\u001b[1;32m----> 1\u001b[0m objectDetection_url \u001b[38;5;241m=\u001b[39m \u001b[43mvision_base_url\u001b[49m \u001b[38;5;241m+\u001b[39m \u001b[38;5;124m'\u001b[39m\u001b[38;5;124mdetect\u001b[39m\u001b[38;5;124m'\u001b[39m\n",
      "\u001b[1;31mNameError\u001b[0m: name 'vision_base_url' is not defined"
     ]
    }
   ],
   "source": [
    "objectDetection_url = vision_base_url + 'detect'"
   ]
  },
  {
   "cell_type": "code",
   "execution_count": null,
   "id": "105b1fd3",
   "metadata": {},
   "outputs": [],
   "source": [
    "image_url = 'https://th.bing.com/th/id/OIP.PHdh4zs_tU2y3r5qFUR5qgHaFs?w=225&h=180&c=7&r=0&o=5&dpr=1.25&pid=1.7'"
   ]
  },
  {
   "cell_type": "code",
   "execution_count": null,
   "id": "997588c0",
   "metadata": {},
   "outputs": [],
   "source": [
    "image = Image.open(BytesIO(requests.get(image_url).content))"
   ]
  },
  {
   "cell_type": "code",
   "execution_count": 6,
   "id": "faf0c9f3",
   "metadata": {},
   "outputs": [
    {
     "ename": "NameError",
     "evalue": "name 'image' is not defined",
     "output_type": "error",
     "traceback": [
      "\u001b[1;31m---------------------------------------------------------------------------\u001b[0m",
      "\u001b[1;31mNameError\u001b[0m                                 Traceback (most recent call last)",
      "Input \u001b[1;32mIn [6]\u001b[0m, in \u001b[0;36m<cell line: 1>\u001b[1;34m()\u001b[0m\n\u001b[1;32m----> 1\u001b[0m \u001b[43mimage\u001b[49m\n",
      "\u001b[1;31mNameError\u001b[0m: name 'image' is not defined"
     ]
    }
   ],
   "source": [
    "image"
   ]
  },
  {
   "cell_type": "code",
   "execution_count": null,
   "id": "7e596aff",
   "metadata": {},
   "outputs": [],
   "source": [
    "headers = {'Ocp-Apim-Subscription-key': subscription_key}\n",
    "params  = {'visualFeatures': 'Categories,Description,Color'}\n",
    "data = {'url': image_url}"
   ]
  },
  {
   "cell_type": "code",
   "execution_count": null,
   "id": "b3cd2496",
   "metadata": {},
   "outputs": [],
   "source": [
    "response = requests.post(objectDetection_url, headers = headers, params = params, json = data)"
   ]
  },
  {
   "cell_type": "code",
   "execution_count": null,
   "id": "d4833fc4",
   "metadata": {},
   "outputs": [],
   "source": [
    "result = response.json()"
   ]
  },
  {
   "cell_type": "code",
   "execution_count": null,
   "id": "64fe3571",
   "metadata": {},
   "outputs": [],
   "source": [
    "result"
   ]
  },
  {
   "cell_type": "code",
   "execution_count": null,
   "id": "d430f165",
   "metadata": {},
   "outputs": [],
   "source": [
    "from PIL import Image, ImageDraw, ImageFont\n",
    "\n",
    "draw = ImageDraw.Draw(image)"
   ]
  },
  {
   "cell_type": "markdown",
   "id": "8bd45bdc",
   "metadata": {},
   "source": [
    "더블클릭 또는 Enter 키를 눌러 수정"
   ]
  },
  {
   "cell_type": "code",
   "execution_count": null,
   "id": "38b279f6",
   "metadata": {},
   "outputs": [],
   "source": [
    "# boundingBox를 위한 함수\n",
    "def DrawBox(detectData):\n",
    "  objects = detectData['objects']\n",
    "\n",
    "  for obj in objects: \n",
    "    # print(obj)\n",
    "\n",
    "    rect = obj['rectangle']\n",
    "    print(rect)\n",
    "\n",
    "    x = rect['x']\n",
    "    y = rect['y']\n",
    "    w = rect['w']\n",
    "    h = rect['h']\n",
    "\n",
    "    draw.rectangle(((x,y),(x+w,y+h)),outline='red')\n",
    "\n",
    "    objectName = obj['object']\n",
    "    draw.text((x,y),objectName,fill='red')"
   ]
  },
  {
   "cell_type": "code",
   "execution_count": null,
   "id": "4cb63556",
   "metadata": {},
   "outputs": [],
   "source": [
    "DrawBox(result)"
   ]
  },
  {
   "cell_type": "code",
   "execution_count": null,
   "id": "ec09ef5c",
   "metadata": {},
   "outputs": [],
   "source": [
    "image"
   ]
  }
 ],
 "metadata": {
  "kernelspec": {
   "display_name": "Python 3 (ipykernel)",
   "language": "python",
   "name": "python3"
  },
  "language_info": {
   "codemirror_mode": {
    "name": "ipython",
    "version": 3
   },
   "file_extension": ".py",
   "mimetype": "text/x-python",
   "name": "python",
   "nbconvert_exporter": "python",
   "pygments_lexer": "ipython3",
   "version": "3.9.12"
  }
 },
 "nbformat": 4,
 "nbformat_minor": 5
}
