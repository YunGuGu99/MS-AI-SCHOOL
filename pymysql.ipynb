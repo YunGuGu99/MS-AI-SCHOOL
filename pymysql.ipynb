{
 "cells": [
  {
   "cell_type": "code",
   "execution_count": 1,
   "id": "772d3918",
   "metadata": {},
   "outputs": [
    {
     "name": "stdout",
     "output_type": "stream",
     "text": [
      "Requirement already satisfied: pymysql in c:\\users\\user\\anaconda3\\lib\\site-packages (1.0.2)\n",
      "Note: you may need to restart the kernel to use updated packages.\n"
     ]
    }
   ],
   "source": [
    "pip install pymysql"
   ]
  },
  {
   "cell_type": "code",
   "execution_count": 2,
   "id": "2dabc91d",
   "metadata": {},
   "outputs": [],
   "source": [
    "import pymysql"
   ]
  },
  {
   "cell_type": "code",
   "execution_count": 3,
   "id": "1e408812",
   "metadata": {},
   "outputs": [],
   "source": [
    "host_name = 'labuser39mysql.mysql.database.azure.com'\n",
    "username = 'winkey'\n",
    "password = 'ghwjd99**'\n",
    "database_name = 'classicmodels'"
   ]
  },
  {
   "cell_type": "code",
   "execution_count": 5,
   "id": "0ca45a1b",
   "metadata": {},
   "outputs": [],
   "source": [
    "db = pymysql.connect (\n",
    "    host=host_name,\n",
    "    port=3306,\n",
    "    user=username,\n",
    "    passwd=password,\n",
    "    db=database_name,\n",
    "    charset='utf8',\n",
    "    ssl={\"fake_flag_to_enable_tls\":True}\n",
    ")"
   ]
  },
  {
   "cell_type": "code",
   "execution_count": 6,
   "id": "b02ca1b5",
   "metadata": {},
   "outputs": [],
   "source": [
    "import pandas as pd"
   ]
  },
  {
   "cell_type": "code",
   "execution_count": 11,
   "id": "5a8c8f4a",
   "metadata": {},
   "outputs": [],
   "source": [
    "SQL = 'SELECT * FROM employees'\n",
    "df = pd.read_sql(SQL, db)"
   ]
  },
  {
   "cell_type": "code",
   "execution_count": 12,
   "id": "f595c9eb",
   "metadata": {},
   "outputs": [
    {
     "data": {
      "text/plain": [
       "pandas.core.frame.DataFrame"
      ]
     },
     "execution_count": 12,
     "metadata": {},
     "output_type": "execute_result"
    }
   ],
   "source": [
    "type(df)"
   ]
  },
  {
   "cell_type": "code",
   "execution_count": 16,
   "id": "c57890b7",
   "metadata": {},
   "outputs": [
    {
     "name": "stdout",
     "output_type": "stream",
     "text": [
      "\n",
      "CREATE TABLE tempTable(\n",
      "  id TINYINT NOT NULL AUTO_INCREMENT,\n",
      "  user_name varchar(10) NOT NULL,\n",
      "  phone varchar(30) NULL,\n",
      "  PRIMARY KEY(id)\n",
      ")\n",
      "\n"
     ]
    }
   ],
   "source": [
    "SQL = '''\n",
    "CREATE TABLE tempTable(\n",
    "  id TINYINT NOT NULL AUTO_INCREMENT,\n",
    "  user_name varchar(10) NOT NULL,\n",
    "  phone varchar(30) NULL,\n",
    "  PRIMARY KEY(id)\n",
    ")\n",
    "'''\n",
    "print(SQL)\n",
    "cursor = db.cursor()\n",
    "cursor.execute(SQL)\n",
    "cursor.close()"
   ]
  },
  {
   "cell_type": "code",
   "execution_count": 19,
   "id": "de3b6651",
   "metadata": {},
   "outputs": [],
   "source": [
    "SQL = \"INSERT INTO tempTable(user_name,phone) VALUES('AJR', '010-1111-1111')\"\n",
    "\n",
    "cursor = db.cursor()\n",
    "cursor.execute(SQL)\n",
    "cursor.close()"
   ]
  },
  {
   "cell_type": "code",
   "execution_count": 20,
   "id": "e351d996",
   "metadata": {},
   "outputs": [
    {
     "name": "stderr",
     "output_type": "stream",
     "text": [
      "C:\\Users\\user\\anaconda3\\lib\\site-packages\\pandas\\io\\sql.py:761: UserWarning: pandas only support SQLAlchemy connectable(engine/connection) ordatabase string URI or sqlite3 DBAPI2 connectionother DBAPI2 objects are not tested, please consider using SQLAlchemy\n",
      "  warnings.warn(\n"
     ]
    },
    {
     "data": {
      "text/html": [
       "<div>\n",
       "<style scoped>\n",
       "    .dataframe tbody tr th:only-of-type {\n",
       "        vertical-align: middle;\n",
       "    }\n",
       "\n",
       "    .dataframe tbody tr th {\n",
       "        vertical-align: top;\n",
       "    }\n",
       "\n",
       "    .dataframe thead th {\n",
       "        text-align: right;\n",
       "    }\n",
       "</style>\n",
       "<table border=\"1\" class=\"dataframe\">\n",
       "  <thead>\n",
       "    <tr style=\"text-align: right;\">\n",
       "      <th></th>\n",
       "      <th>id</th>\n",
       "      <th>user_name</th>\n",
       "      <th>phone</th>\n",
       "    </tr>\n",
       "  </thead>\n",
       "  <tbody>\n",
       "    <tr>\n",
       "      <th>0</th>\n",
       "      <td>1</td>\n",
       "      <td>AJR</td>\n",
       "      <td>010-1111-1111</td>\n",
       "    </tr>\n",
       "  </tbody>\n",
       "</table>\n",
       "</div>"
      ],
      "text/plain": [
       "   id user_name          phone\n",
       "0   1       AJR  010-1111-1111"
      ]
     },
     "execution_count": 20,
     "metadata": {},
     "output_type": "execute_result"
    }
   ],
   "source": [
    "SQL = 'SELECT * FROM tempTable'\n",
    "df = pd.read_sql(SQL, db)\n",
    "df"
   ]
  },
  {
   "cell_type": "code",
   "execution_count": null,
   "id": "4402a82a",
   "metadata": {},
   "outputs": [],
   "source": []
  }
 ],
 "metadata": {
  "kernelspec": {
   "display_name": "Python 3 (ipykernel)",
   "language": "python",
   "name": "python3"
  },
  "language_info": {
   "codemirror_mode": {
    "name": "ipython",
    "version": 3
   },
   "file_extension": ".py",
   "mimetype": "text/x-python",
   "name": "python",
   "nbconvert_exporter": "python",
   "pygments_lexer": "ipython3",
   "version": "3.9.12"
  }
 },
 "nbformat": 4,
 "nbformat_minor": 5
}
