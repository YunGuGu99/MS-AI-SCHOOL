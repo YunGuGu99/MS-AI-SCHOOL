{
 "cells": [
  {
   "cell_type": "code",
   "execution_count": null,
   "id": "003af18d",
   "metadata": {},
   "outputs": [],
   "source": [
    "import requests\n",
    "from PIL import Image, ImageDraw, ImageFont\n",
    "from io import BytesIO"
   ]
  },
  {
   "cell_type": "code",
   "execution_count": null,
   "id": "2a96f60d",
   "metadata": {},
   "outputs": [],
   "source": [
    "subscription_key = ''\n",
    "face_api_url = ''\n",
    "\n",
    "#Class, library, Package 대문자 관례\n",
    "#지역변수, 파라메타 소문자로 관례\n",
    "#addr, msg 줄임말은 배제\n",
    "#두 단어가 합쳐지면 두 번째 단어는 대문자\n",
    "#상수는 전체가 대문자 const MAX_USER=100\n",
    "\n",
    "image_url = 'https://img.tvreportcdn.de/cms-content/uploads/2020/11/04/4366046b-5597-49a6-883d-1f9ff2163443.jpg'"
   ]
  },
  {
   "cell_type": "code",
   "execution_count": null,
   "id": "d46ceb56",
   "metadata": {},
   "outputs": [],
   "source": [
    "image = Image.open(BytesIO(requests.get(image_url).content))"
   ]
  },
  {
   "cell_type": "code",
   "execution_count": null,
   "id": "3502fee7",
   "metadata": {},
   "outputs": [],
   "source": [
    "image"
   ]
  },
  {
   "cell_type": "code",
   "execution_count": null,
   "id": "238d016a",
   "metadata": {},
   "outputs": [],
   "source": [
    "headers = {'Ocp-Apim-Subscription-Key': subscription_key}"
   ]
  },
  {
   "cell_type": "code",
   "execution_count": null,
   "id": "471f0212",
   "metadata": {},
   "outputs": [],
   "source": [
    "params = {\n",
    "    'returnFaceId': 'false',\n",
    "    'returnFaceLandmarks': 'false',\n",
    "    'returnFaceAttributes': 'Smile'\n",
    "}"
   ]
  },
  {
   "cell_type": "code",
   "execution_count": null,
   "id": "ab1e4f10",
   "metadata": {},
   "outputs": [],
   "source": [
    "data = {'url': image_url}"
   ]
  },
  {
   "cell_type": "code",
   "execution_count": null,
   "id": "837b3594",
   "metadata": {},
   "outputs": [],
   "source": [
    "response = requests.post(face_api_url, params=params, headers=headers,json=data)\n",
    "faces = response.json()\n",
    "faces"
   ]
  },
  {
   "cell_type": "code",
   "execution_count": null,
   "id": "1ab1d391",
   "metadata": {},
   "outputs": [],
   "source": [
    "draw = ImageDraw.Draw(image)"
   ]
  },
  {
   "cell_type": "code",
   "execution_count": null,
   "id": "89bf618d",
   "metadata": {},
   "outputs": [],
   "source": [
    "def DrawBox(faces):\n",
    "\n",
    "  for face in faces:\n",
    "    rect = face['faceRectangle']\n",
    "    left = rect['left']\n",
    "    top = rect['top']\n",
    "    width = rect['width']\n",
    "    height = rect['height']\n",
    "\n",
    "    draw.rectangle(((left,top),(left+width,top+height)),outline='red')\n",
    "\n",
    "    face_attributes = face['faceAttributes']\n",
    "    smile = face_attributes['smile']\n",
    "    draw.text((left,top),str(smile),fill='red')"
   ]
  },
  {
   "cell_type": "code",
   "execution_count": null,
   "id": "4643810d",
   "metadata": {},
   "outputs": [],
   "source": [
    "DrawBox(faces)\n",
    "image"
   ]
  }
 ],
 "metadata": {
  "kernelspec": {
   "display_name": "Python 3 (ipykernel)",
   "language": "python",
   "name": "python3"
  },
  "language_info": {
   "codemirror_mode": {
    "name": "ipython",
    "version": 3
   },
   "file_extension": ".py",
   "mimetype": "text/x-python",
   "name": "python",
   "nbconvert_exporter": "python",
   "pygments_lexer": "ipython3",
   "version": "3.9.12"
  }
 },
 "nbformat": 4,
 "nbformat_minor": 5
}
