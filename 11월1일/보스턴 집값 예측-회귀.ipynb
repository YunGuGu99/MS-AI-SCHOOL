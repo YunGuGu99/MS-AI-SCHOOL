{
 "cells": [
  {
   "cell_type": "code",
   "execution_count": 1,
   "id": "c4db23d1",
   "metadata": {},
   "outputs": [],
   "source": [
    "import keras\n",
    "import numpy as np\n",
    "import matplotlib.pyplot as plt"
   ]
  },
  {
   "cell_type": "code",
   "execution_count": 3,
   "id": "b2addc4c",
   "metadata": {},
   "outputs": [
    {
     "name": "stdout",
     "output_type": "stream",
     "text": [
      "Downloading data from https://storage.googleapis.com/tensorflow/tf-keras-datasets/boston_housing.npz\n",
      "57026/57026 [==============================] - 0s 0us/step\n"
     ]
    }
   ],
   "source": [
    "# 보스턴 주택 가격 데이터셋\n",
    "\n",
    "from keras.datasets import boston_housing\n",
    "(train_data, train_labels), (test_data, test_labels) = boston_housing.load_data()"
   ]
  },
  {
   "cell_type": "code",
   "execution_count": 4,
   "id": "07c0f554",
   "metadata": {},
   "outputs": [
    {
     "data": {
      "text/plain": [
       "(404, 13)"
      ]
     },
     "execution_count": 4,
     "metadata": {},
     "output_type": "execute_result"
    }
   ],
   "source": [
    "train_data.shape"
   ]
  },
  {
   "cell_type": "code",
   "execution_count": 5,
   "id": "edb0be90",
   "metadata": {},
   "outputs": [
    {
     "data": {
      "text/plain": [
       "(102, 13)"
      ]
     },
     "execution_count": 5,
     "metadata": {},
     "output_type": "execute_result"
    }
   ],
   "source": [
    "test_data.shape"
   ]
  },
  {
   "cell_type": "code",
   "execution_count": 6,
   "id": "74c7a450",
   "metadata": {},
   "outputs": [],
   "source": [
    "mean = train_data.mean(axis=0)"
   ]
  },
  {
   "cell_type": "code",
   "execution_count": 10,
   "id": "8a1ef897",
   "metadata": {},
   "outputs": [],
   "source": [
    "train_data -= mean\n",
    "#train_data = train_data - mean와 같은 표현"
   ]
  },
  {
   "cell_type": "code",
   "execution_count": 11,
   "id": "85ffa07b",
   "metadata": {},
   "outputs": [],
   "source": [
    "# 표준 편차를 구한다.\n",
    "std = train_data.std(axis=0)"
   ]
  },
  {
   "cell_type": "code",
   "execution_count": 12,
   "id": "44761ea2",
   "metadata": {},
   "outputs": [],
   "source": [
    "train_data /= std\n",
    "# train_data = train_data / std"
   ]
  },
  {
   "cell_type": "code",
   "execution_count": 13,
   "id": "37f007c3",
   "metadata": {},
   "outputs": [
    {
     "data": {
      "text/plain": [
       "array([[ -0.67803164,  -0.96723094,  -2.06807658, ...,  -7.2586309 ,\n",
       "         -3.32642867,  -0.93321053],\n",
       "       [ -0.80921182,   2.50816872,  -2.96622659, ..., -10.12532043,\n",
       "         -3.34259981,  -3.08763312],\n",
       "       [ -0.28084511,  -0.96723094,  -0.60398918, ...,  -7.62265497,\n",
       "         -3.55388854,  -3.06693079],\n",
       "       ...,\n",
       "       [ -0.80781518,   0.50718104,  -2.37382978, ...,  -9.12425424,\n",
       "         -3.69506686,  -2.43619977],\n",
       "       [ -0.57870548,  -0.96723094,  -0.38643402, ..., -10.12532043,\n",
       "         -4.76214942,  -1.33759606],\n",
       "       [ -0.81001145,   1.56033245,  -2.83392953, ...,  -9.71579335,\n",
       "         -3.54133462,  -2.91235338]])"
      ]
     },
     "execution_count": 13,
     "metadata": {},
     "output_type": "execute_result"
    }
   ],
   "source": [
    "train_data"
   ]
  },
  {
   "cell_type": "code",
   "execution_count": 14,
   "id": "4f76bf6d",
   "metadata": {},
   "outputs": [],
   "source": [
    "mean = test_data.mean(axis=0)\n",
    "test_data -= mean\n",
    "std = test_data.std(axis=0)\n",
    "test_data /= std"
   ]
  },
  {
   "cell_type": "code",
   "execution_count": 15,
   "id": "cf40e79d",
   "metadata": {},
   "outputs": [
    {
     "data": {
      "text/plain": [
       "array([[ 2.8040301 , -0.50784934,  0.96960877, ...,  0.90513041,\n",
       "        -4.27829517,  2.51324773],\n",
       "       [-0.55530596, -0.50784934, -0.17801704, ..., -0.28485844,\n",
       "         0.3909446 ,  0.58604286],\n",
       "       [-0.56808398, -0.50784934, -0.86176938, ...,  0.90513041,\n",
       "         0.41570668, -0.38506427],\n",
       "       ...,\n",
       "       [-0.23539182, -0.50784934,  1.17955762, ..., -1.82192738,\n",
       "         0.32313459, -1.55879807],\n",
       "       [-0.5113909 , -0.50784934, -0.71849348, ..., -0.48318992,\n",
       "         0.34967446, -0.38956708],\n",
       "       [-0.03148414, -0.50784934,  1.17955762, ..., -1.82192738,\n",
       "        -1.57465677, -0.3745577 ]])"
      ]
     },
     "execution_count": 15,
     "metadata": {},
     "output_type": "execute_result"
    }
   ],
   "source": [
    "test_data"
   ]
  },
  {
   "cell_type": "code",
   "execution_count": 39,
   "id": "f496c06e",
   "metadata": {},
   "outputs": [],
   "source": [
    "# 신경망을 만든다.\n",
    "from keras import models\n",
    "from keras import layers\n",
    "\n",
    "def build_model():\n",
    "    model = models.Sequential()\n",
    "    model.add(layers.Dense(64, activation='relu',input_shape=(train_data.shape[1],)))\n",
    "    model.add(layers.Dense(64, activation='relu'))\n",
    "    model.add(layers.Dense(1))\n",
    "    \n",
    "    model.compile(optimizer='rmsprop',\n",
    "                  loss='mse',\n",
    "                  metrics=['mae'])\n",
    "    return model"
   ]
  },
  {
   "cell_type": "code",
   "execution_count": 41,
   "id": "b726d435",
   "metadata": {},
   "outputs": [
    {
     "name": "stdout",
     "output_type": "stream",
     "text": [
      "처리중인 폴드 # 0\n",
      "처리중인 폴드 # 1\n",
      "처리중인 폴드 # 2\n",
      "처리중인 폴드 # 3\n"
     ]
    }
   ],
   "source": [
    "# K-folder 검증\n",
    "k = 4\n",
    "\n",
    "num_val_samples = len(train_data) // k #폴더의 사이즈\n",
    "all_scores = []\n",
    "\n",
    "for i in range(k):\n",
    "    print('처리중인 폴드 #',i)\n",
    "\n",
    "    # 검증 데이터를 준비: k번째 분할\n",
    "    val_data = train_data[i * num_val_samples : (i+1) * num_val_samples]\n",
    "    val_labels = train_labels[i * num_val_samples : (i+1) * num_val_samples]\n",
    "  \n",
    "    # 훈련 데이터의 준비:\n",
    "    partial_train_data = np.concatenate(\n",
    "        [train_data[: i * num_val_samples],\n",
    "        train_data[(i+1)*num_val_samples:]], axis=0)\n",
    "  \n",
    "    partial_train_labels = np.concatenate(\n",
    "        [train_labels[: i * num_val_samples],\n",
    "        train_labels[(i+1)*num_val_samples:]], axis=0)\n",
    "\n",
    "    model = build_model()\n",
    "    model.fit(partial_train_data,\n",
    "        partial_train_labels,\n",
    "        epochs=20,\n",
    "        batch_size=1,\n",
    "        verbose=0)\n",
    "  \n",
    "    val_mse, val_mae = model.evaluate(val_data, val_labels, verbose=0)\n",
    "    all_scores.append(val_mae)\n"
   ]
  },
  {
   "cell_type": "code",
   "execution_count": 42,
   "id": "dc652f14",
   "metadata": {},
   "outputs": [
    {
     "data": {
      "text/plain": [
       "[2.7426092624664307,\n",
       " 2.6861062049865723,\n",
       " 3.5809378623962402,\n",
       " 2.9374217987060547]"
      ]
     },
     "execution_count": 42,
     "metadata": {},
     "output_type": "execute_result"
    }
   ],
   "source": [
    "all_scores"
   ]
  },
  {
   "cell_type": "code",
   "execution_count": 43,
   "id": "4eb09ce8",
   "metadata": {},
   "outputs": [
    {
     "data": {
      "text/plain": [
       "2.9867687821388245"
      ]
     },
     "execution_count": 43,
     "metadata": {},
     "output_type": "execute_result"
    }
   ],
   "source": [
    "np.mean(all_scores)"
   ]
  },
  {
   "cell_type": "code",
   "execution_count": 45,
   "id": "c87f4e0c",
   "metadata": {},
   "outputs": [
    {
     "name": "stdout",
     "output_type": "stream",
     "text": [
      "처리중인 폴드 # 0\n",
      "처리중인 폴드 # 1\n",
      "처리중인 폴드 # 2\n",
      "처리중인 폴드 # 3\n"
     ]
    }
   ],
   "source": [
    "# K-folder 검증\n",
    "k = 4\n",
    "num_epochs = 500\n",
    "\n",
    "num_val_samples = len(train_data) // k #폴더의 사이즈\n",
    "all_scores = []\n",
    "\n",
    "for i in range(k):\n",
    "    print('처리중인 폴드 #',i)\n",
    "\n",
    "    # 검증 데이터를 준비: k번째 분할\n",
    "    val_data = train_data[i * num_val_samples : (i+1) * num_val_samples]\n",
    "    val_labels = train_labels[i * num_val_samples : (i+1) * num_val_samples]\n",
    "  \n",
    "    # 훈련 데이터의 준비:\n",
    "    partial_train_data = np.concatenate(\n",
    "        [train_data[: i * num_val_samples],\n",
    "        train_data[(i+1)*num_val_samples:]], axis=0)\n",
    "  \n",
    "    partial_train_labels = np.concatenate(\n",
    "        [train_labels[: i * num_val_samples],\n",
    "        train_labels[(i+1)*num_val_samples:]], axis=0)\n",
    "\n",
    "    model = build_model()\n",
    "    history = model.fit(partial_train_data,\n",
    "        partial_train_labels,\n",
    "        epochs=num_epochs,\n",
    "        batch_size=1,\n",
    "        validation_data=(val_data, val_labels),\n",
    "        verbose=0)\n",
    "    mae_history = history.history['mae']\n",
    "    \n",
    "    \n",
    "    all_scores.append(mae_history)\n"
   ]
  },
  {
   "cell_type": "code",
   "execution_count": 49,
   "id": "ad0389c4",
   "metadata": {},
   "outputs": [],
   "source": [
    "average_mae_history = [np.mean([x[i] for x in all_scores]) for i in range(num_epochs)]"
   ]
  },
  {
   "cell_type": "code",
   "execution_count": 50,
   "id": "faac4796",
   "metadata": {},
   "outputs": [
    {
     "data": {
      "text/plain": [
       "Text(0, 0.5, 'Validation MAE')"
      ]
     },
     "execution_count": 50,
     "metadata": {},
     "output_type": "execute_result"
    },
    {
     "data": {
      "image/png": "[encoded data removed]",
      "text/plain": [
       "<Figure size 432x288 with 1 Axes>"
      ]
     },
     "metadata": {
      "needs_background": "light"
     },
     "output_type": "display_data"
    }
   ],
   "source": [
    "plt.plot(range(1, len(average_mae_history)+1), average_mae_history)\n",
    "plt.xlabel('Epochs')\n",
    "plt.ylabel('Validation MAE')\n"
   ]
  },
  {
   "cell_type": "code",
   "execution_count": null,
   "id": "3c4a37fd",
   "metadata": {},
   "outputs": [],
   "source": []
  }
 ],
 "metadata": {
  "kernelspec": {
   "display_name": "Python 3 (ipykernel)",
   "language": "python",
   "name": "python3"
  },
  "language_info": {
   "codemirror_mode": {
    "name": "ipython",
    "version": 3
   },
   "file_extension": ".py",
   "mimetype": "text/x-python",
   "name": "python",
   "nbconvert_exporter": "python",
   "pygments_lexer": "ipython3",
   "version": "3.9.12"
  }
 },
 "nbformat": 4,
 "nbformat_minor": 5
}
